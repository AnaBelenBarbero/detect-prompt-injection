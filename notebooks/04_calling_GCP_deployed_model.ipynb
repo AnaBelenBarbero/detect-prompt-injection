{
 "cells": [
  {
   "cell_type": "markdown",
   "metadata": {},
   "source": [
    "## Call the dockerized local model"
   ]
  },
  {
   "cell_type": "markdown",
   "metadata": {},
   "source": [
    "Run before:\n",
    "\n",
    "```make docker-build```\n",
    "\n",
    "```make docker-run```\n",
    "\n",
    "Once the container is running locally, you can call the API:\n"
   ]
  },
  {
   "cell_type": "code",
   "execution_count": 32,
   "metadata": {},
   "outputs": [
    {
     "data": {
      "text/plain": [
       "'{\"message\":\"pong\"}'"
      ]
     },
     "execution_count": 32,
     "metadata": {},
     "output_type": "execute_result"
    }
   ],
   "source": [
    "import requests\n",
    "PORT = 80\n",
    "LOCAL_URL = f\"http://localhost:{PORT}\"\n",
    "\n",
    "response = requests.get(\n",
    "    LOCAL_URL,\n",
    ")\n",
    "\n",
    "# Test connectivity\n",
    "response.text"
   ]
  },
  {
   "cell_type": "code",
   "execution_count": 34,
   "metadata": {},
   "outputs": [
    {
     "data": {
      "text/plain": [
       "'{\"detail\":\"Not Found\"}'"
      ]
     },
     "execution_count": 34,
     "metadata": {},
     "output_type": "execute_result"
    }
   ],
   "source": [
    "response = requests.get(\n",
    "    f\"{LOCAL_URL}/predict\",\n",
    "    params={\"prompt\": \"What is the capital of France?\"}\n",
    ")\n",
    "\n",
    "response.text"
   ]
  },
  {
   "cell_type": "markdown",
   "metadata": {},
   "source": [
    "## Call the API for the GCP deployed model"
   ]
  },
  {
   "cell_type": "code",
   "execution_count": 4,
   "metadata": {},
   "outputs": [
    {
     "data": {
      "text/plain": [
       "{'label': 'benign', 'probability': 0.9996808767318726}"
      ]
     },
     "execution_count": 4,
     "metadata": {},
     "output_type": "execute_result"
    }
   ],
   "source": [
    "import google.auth\n",
    "import google.auth.transport.requests\n",
    "import google.oauth2.id_token\n",
    "import requests\n",
    "\n",
    "def get_gcp_bearer_token(ENDPOINT_URL: str = \"https://detect-prompt-injection-941427557247.us-central1.run.app\"):\n",
    "    \"\"\"\n",
    "    Get the bearer token for the GCP deployed model\n",
    "\n",
    "    ENDPOINT_URL: str The endpoint URL of the GCP deployed model.\n",
    "\n",
    "    `GOOGLE_APPLICATION_CREDENTIALS` is set in the environment to the keys json file\n",
    "    \"\"\"\n",
    "    credentials, project = google.auth.default(scopes=['https://www.googleapis.com/auth/cloud-platform'])\n",
    "    auth_req = google.auth.transport.requests.Request()\n",
    "    return google.oauth2.id_token.fetch_id_token(auth_req, ENDPOINT_URL)\n",
    "\n",
    "def predict(prompt: str, ENDPOINT_URL: str = \"https://detect-prompt-injection-941427557247.us-central1.run.app\") -> dict[str, str | float]:\n",
    "    \"\"\"\n",
    "    Predict the prompt injection\n",
    "\n",
    "    prompt: str The prompt to predict\n",
    "    ENDPOINT_URL: str The endpoint URL of the GCP deployed model.\n",
    "    \"\"\"\n",
    "\n",
    "    headers = {\n",
    "        'Authorization': f'Bearer {get_gcp_bearer_token()}',\n",
    "        'Content-Type': 'application/json'\n",
    "    }\n",
    "\n",
    "    response = requests.get(\n",
    "        f\"{ENDPOINT_URL}/predict\",\n",
    "        headers=headers,\n",
    "        params={\"prompt\": prompt}\n",
    "    )\n",
    "\n",
    "    return response.json()\n",
    "    \n",
    "response = predict(\"What is the capital of France?\")\n",
    "response\n"
   ]
  }
 ],
 "metadata": {
  "kernelspec": {
   "display_name": "final_project-bJu3-cMr-py3.12",
   "language": "python",
   "name": "python3"
  },
  "language_info": {
   "codemirror_mode": {
    "name": "ipython",
    "version": 3
   },
   "file_extension": ".py",
   "mimetype": "text/x-python",
   "name": "python",
   "nbconvert_exporter": "python",
   "pygments_lexer": "ipython3",
   "version": "3.12.6"
  }
 },
 "nbformat": 4,
 "nbformat_minor": 2
}
